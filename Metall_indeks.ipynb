{
 "cells": [
  {
   "cell_type": "markdown",
   "id": "fbd8fec2",
   "metadata": {},
   "source": [
    "# Prisindeks på metaller"
   ]
  },
  {
   "cell_type": "markdown",
   "id": "b33277a6",
   "metadata": {},
   "source": [
    "En prisindeks er ofte et vektet gjennomsnitt av flere priser over lengre tid. I denne oppgaven skal vi lage en indeks som ikke er vektet. \n",
    "\n",
    "Vi anbefaler å bruke PyCharm"
   ]
  },
  {
   "cell_type": "markdown",
   "id": "35d3ad33",
   "metadata": {},
   "source": [
    "# Importere moduler"
   ]
  },
  {
   "cell_type": "code",
   "execution_count": 9,
   "id": "b96128db",
   "metadata": {},
   "outputs": [],
   "source": [
    "import pandas as pd\n",
    "import requests\n",
    "from pyjstat import pyjstat\n",
    "import matplotlib.pyplot as plt\n",
    "import datetime"
   ]
  },
  {
   "cell_type": "markdown",
   "id": "44be638e",
   "metadata": {},
   "source": [
    "Vi skal bruke disse fire modulene i denne oppgaven."
   ]
  },
  {
   "cell_type": "markdown",
   "id": "54c93826",
   "metadata": {},
   "source": [
    "# Gjennomføre spørring"
   ]
  },
  {
   "cell_type": "code",
   "execution_count": 3,
   "id": "b1b056d9",
   "metadata": {},
   "outputs": [],
   "source": [
    "URL = \"https://data.ssb.no/api/v0/no/table/07199/\"\n",
    "\n",
    "query = {\n",
    "  \"query\": [\n",
    "    {\n",
    "      \"code\": \"Tid\",\n",
    "      \"selection\": {\n",
    "        \"filter\": \"all\",\n",
    "        \"values\": [\"*\"]\n",
    "      }\n",
    "    }\n",
    "  ],\n",
    "  \"response\": {\n",
    "    \"format\": \"json-stat2\"\n",
    "  }\n",
    "}\n",
    "\n",
    "resultat = requests.post(URL, json = query)"
   ]
  },
  {
   "cell_type": "markdown",
   "id": "dada2d47",
   "metadata": {},
   "source": [
    "Vi angir først variabelen URL med nettadressen til tabellen på statistikkbanken. Her bruker vi tabell som viser spotpris på visse metaller."
   ]
  },
  {
   "cell_type": "markdown",
   "id": "3476266e",
   "metadata": {},
   "source": [
    "Deretter angir vi variabelen query med selve spørringen hentet fra SSB sin API-konsoll."
   ]
  },
  {
   "cell_type": "markdown",
   "id": "f29741f1",
   "metadata": {},
   "source": [
    "Til slutt poster vi spørringen, og legger den i variabelen resultat"
   ]
  },
  {
   "cell_type": "markdown",
   "id": "aa22725c",
   "metadata": {},
   "source": [
    "# Lage DataFrame"
   ]
  },
  {
   "cell_type": "code",
   "execution_count": 4,
   "id": "c716e3bd",
   "metadata": {},
   "outputs": [],
   "source": [
    "dataset = pyjstat.Dataset.read(resultat.text)\n",
    "\n",
    "df = dataset.write('dataframe')\n",
    "\n",
    "df.set_index('måned', inplace=True)\n",
    "df = df[df.statistikkvariabel != 'Sølv (kr per unse)']\n",
    "df = df[df.statistikkvariabel != 'Gull (kr per unse)']"
   ]
  },
  {
   "cell_type": "markdown",
   "id": "468ad828",
   "metadata": {},
   "source": [
    "Neste steg er å lage en pandas DataFrame. De to første linjene med kode lager en dataframe"
   ]
  },
  {
   "cell_type": "markdown",
   "id": "3d289697",
   "metadata": {},
   "source": [
    "\n",
    "Hvis vi nå skriver ut dataframet ser vi at kolonnene innholder måned, statistikkvariabel og verdi\n",
    "\n",
    "For å få noe nyttig ut av dataen må vi bearbeide innholdet. \n",
    "\n",
    "Vi starter med å angi indekskolonnen med den aktuelle måneden. \n",
    "\n",
    "Deretter fjerner vi metallene sølv og gull, da de har en annen måleenhet enn de andre, og de er edle metaller."
   ]
  },
  {
   "cell_type": "markdown",
   "id": "22be921d",
   "metadata": {},
   "source": [
    "# Beregne indeks"
   ]
  },
  {
   "cell_type": "code",
   "execution_count": 11,
   "id": "898d0bf1",
   "metadata": {},
   "outputs": [],
   "source": [
    "current_time = datetime.datetime.now()\n",
    "\n",
    "current_year = current_time.year\n",
    "current_month = current_time.month\n",
    "\n",
    "indeks_mnd = []                                        #Vi må lage en tom liste til å begynne med, ellers får vi en Error\n",
    "start_year = 1990                                                     #Startåret er 1990, det er da dataen fra SSB begynner.\n",
    "while start_year != 2024:                          #Vi lager en while-løkke som går helt frem til det aktuelle året er 2024.\n",
    "  for m in range(1,13):                       #Vi lager en for-løkke inni while-løkken. m vil her være den aktuelle måneden.\n",
    "    tmp_list = []                                           #Vi trenger igjen en tom liste\n",
    "    if m == current_month-1 and start_year == current_year:                  # Her setter vi en stopp på for-løkken når man har nådd dagens måned.\n",
    "      break\n",
    "    elif m <10:                                                      # vi må skille mellom 1 og 2 sifret m\n",
    "      tmp_list = list(df.loc[str(start_year)+'M0'+str(m),'value'])  # her legger vi til verdien til hver enkelt metall i en liste\n",
    "    else:\n",
    "      tmp_list = list(df.loc[str(start_year)+'M'+str(m),'value'])\n",
    "    summ = 0\n",
    "    for element in tmp_list:                  # Her itererer vi gjennom listen med metallprisen for den aktuelle måneden\n",
    "      summ += element                               # Her summerer vi hvert element og legger det i variabelen summ.\n",
    "\n",
    "    indeks_tall = summ/5                          # Her får vi selve indekstallet for den aktuelle måneden.\n",
    "    indeks_mnd.append(indeks_tall)           # deretter legger vi til indekstallet i en liste som ligger utenfor for-løkken\n",
    "    summ = 0                                           #man må huske å 'resette' variabelene man bruker for hver iterasjon\n",
    "    indeks_tall = 0\n",
    "\n",
    "  start_year += 1 # til slutt legger vi til 1 på variabelen sttary_year, slik at når neste iterasjon går er også året oppdatert"
   ]
  },
  {
   "cell_type": "markdown",
   "id": "d18ac0ee",
   "metadata": {},
   "source": [
    "Målet med denne kodebolken er å lage en liste med indekstallet for hver måned. \n",
    "\n",
    "Vi beregner selve indeksen ved å summere prisene på hvert metall og dele på antall metaller. \n",
    "\n"
   ]
  },
  {
   "cell_type": "markdown",
   "id": "1ce697a7",
   "metadata": {},
   "source": [
    "# Lage liste for måneder"
   ]
  },
  {
   "cell_type": "markdown",
   "id": "474f7631",
   "metadata": {},
   "source": [
    "For å kunne anvende listen vi nettopp har laget, må vi lage enda en liste som er månedene indekstallene hører til. \n",
    "\n",
    "Siden listen med indekstall allerede er i kronologisk rekkefølge trenger vi bare å lage en liste som starter på '1990M01' og slutter på den siste måneden vi har data for. \n",
    "\n",
    "Listen vil se slik ut: ['1990M02', '1990M02, '1990M03, ...., 2023M07, 2023M08]\n"
   ]
  },
  {
   "cell_type": "code",
   "execution_count": 12,
   "id": "5cb10c76",
   "metadata": {},
   "outputs": [],
   "source": [
    "mnd_list = []                                       #vi starter med en tom liste\n",
    "mnd = ''                                            #vi trenger også en tom variabel\n",
    "year = 1990                                         #startår\n",
    "while mnd != '2023M07':                             # vi bruker igjen en while-løkke som går helt til vi har nådd siste måned\n",
    "  for x in range(1,13):                             # for-løkke som gir oss månedstallene (1-12)\n",
    "    if x == current_month-1 and year == current_year:                     # betingelser som skal hindre feilkoder\n",
    "      break\n",
    "    elif x < 10:\n",
    "      mnd = str(year)+ 'M0'+ str(x)\n",
    "    else:\n",
    "      mnd = str(year) + 'M'+ str(x)\n",
    "    mnd_list.append(mnd)                            # Her legger vi til elementet vi lager for hver iterasjon vi går gjennom\n",
    "  year += 1                                         # til slutt plusser vi på 1 på året, slik at neste gang while-løkken går er året oppdatert"
   ]
  },
  {
   "cell_type": "markdown",
   "id": "64601200",
   "metadata": {},
   "source": [
    "# Gjøre om til dataframe og plotte graf"
   ]
  },
  {
   "cell_type": "code",
   "execution_count": 14,
   "id": "6e34a285",
   "metadata": {},
   "outputs": [
    {
     "data": {
      "text/plain": [
       "<Axes: xlabel='måned'>"
      ]
     },
     "execution_count": 14,
     "metadata": {},
     "output_type": "execute_result"
    },
    {
     "data": {
      "image/png": "[encoded data removed]",
      "text/plain": [
       "<Figure size 640x480 with 1 Axes>"
      ]
     },
     "metadata": {},
     "output_type": "display_data"
    }
   ],
   "source": [
    "d = {'måned': mnd_list, 'Indeks': indeks_mnd}\n",
    "\n",
    "indeks_df = pd.DataFrame(d)\n",
    "\n",
    "\n",
    "indeks_df.plot(x='måned',y = 'Indeks')\n"
   ]
  },
  {
   "cell_type": "markdown",
   "id": "dd9ff6bf",
   "metadata": {},
   "source": [
    "Helt til slutt gjør vi om de to listene først til en dictionary, og deretter en dataframe.\n",
    "Da får vi en dataframe med to kolonner, Måned og indekstall\n",
    "\n",
    "Dette plotter vi i en graf"
   ]
  },
  {
   "cell_type": "code",
   "execution_count": null,
   "id": "0437fa74",
   "metadata": {},
   "outputs": [],
   "source": []
  }
 ],
 "metadata": {
  "kernelspec": {
   "display_name": "Python 3 (ipykernel)",
   "language": "python",
   "name": "python3"
  },
  "language_info": {
   "codemirror_mode": {
    "name": "ipython",
    "version": 3
   },
   "file_extension": ".py",
   "mimetype": "text/x-python",
   "name": "python",
   "nbconvert_exporter": "python",
   "pygments_lexer": "ipython3",
   "version": "3.11.4"
  }
 },
 "nbformat": 4,
 "nbformat_minor": 5
}
