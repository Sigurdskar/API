{
 "cells": [
  {
   "cell_type": "markdown",
   "id": "f8838ea2",
   "metadata": {},
   "source": [
    "# Hvordan hente informasjon fra nettet ved hjelp av API"
   ]
  },
  {
   "cell_type": "markdown",
   "id": "43ef9511",
   "metadata": {},
   "source": [
    "API står for **Application Programming interface**.\n",
    "\n",
    "Måten det funker på er i korte trekk at man sender en forespørsel (request) til en nettside, og får tilbake den dataen man forespør.\n",
    "\n",
    "Ved å kode denne forespørselen med python kan man hente data med et enkelt tastetrykk. \n",
    "Det kan derfor lønne seg å bruke tid på å kode hvis det er data som oppdateres jevnlig. \n",
    "\n",
    "F.eks. kan man kode et program som henter inn nyheter om markedet for et meglerhus hver morgen.\n",
    "Da kan man på forhånd bestemme seg for hvilke type nyheter man ønsker, og kjøre programmet når man kommer på jobb på morgenen.\n",
    "\n"
   ]
  },
  {
   "cell_type": "markdown",
   "id": "2140e6db",
   "metadata": {},
   "source": [
    "# API-konsoll"
   ]
  },
  {
   "cell_type": "markdown",
   "id": "c493c84d",
   "metadata": {},
   "source": [
    "SSB har en egen konsoll som gjør det enklere å lage spørringer mot deres tabeller. https://data.ssb.no/api/v0/no/console\n",
    "\n",
    "På denne konsollen kan man finne alle de tilgjengelige tabellene fra SSB. "
   ]
  },
  {
   "cell_type": "markdown",
   "id": "19d74b71",
   "metadata": {},
   "source": [
    "# Installere moduler"
   ]
  },
  {
   "cell_type": "markdown",
   "id": "b1ba2aba",
   "metadata": {},
   "source": [
    "For å sette i gang med kodingen trenger vi å laste ned og importere python-pakkene **requests** , **pyjstat** og **matplotlib**\n",
    "\n",
    "Vi anbefaler å bruke IDEen PyCharm"
   ]
  },
  {
   "cell_type": "code",
   "execution_count": 2,
   "id": "ae050656",
   "metadata": {},
   "outputs": [],
   "source": [
    "import requests\n",
    "from pyjstat import pyjstat\n",
    "import matplotlib as plt"
   ]
  },
  {
   "cell_type": "markdown",
   "id": "05272f18",
   "metadata": {},
   "source": [
    "# Gjennomføre en request\n"
   ]
  },
  {
   "cell_type": "markdown",
   "id": "7d4838cb",
   "metadata": {},
   "source": [
    "Vi angir først variabelen **URL** med nettadressen til tabellen vi ønsker å bruke. Nettadressen tar vi fra API-konsollen\n",
    "\n",
    "Her bruker vi tabell for lakseeksport"
   ]
  },
  {
   "cell_type": "code",
   "execution_count": 9,
   "id": "669538d7",
   "metadata": {},
   "outputs": [],
   "source": [
    "URL = \"https://data.ssb.no/api/v0/no/table/03024\""
   ]
  },
  {
   "cell_type": "markdown",
   "id": "f1906a28",
   "metadata": {},
   "source": [
    "Deretter angir vi variabelen **query** med selve spørringen som vi henter fra API konsollen til SSB.\n",
    "\n",
    "Det lønner seg å kun hente de variabelene man er ute etter. Dette kan man endre ved å justere spørringen"
   ]
  },
  {
   "cell_type": "code",
   "execution_count": 30,
   "id": "c171ca36",
   "metadata": {},
   "outputs": [],
   "source": [
    "query = {\n",
    "  \"query\": [\n",
    "    {\n",
    "      \"code\": \"VareGrupper2\",\n",
    "      \"selection\": {\n",
    "        \"filter\": \"item\",\n",
    "        \"values\": [\n",
    "          \"01\",\n",
    "          \"02\"\n",
    "        ]\n",
    "      }\n",
    "    },\n",
    "    {\n",
    "      \"code\": \"ContentsCode\",\n",
    "      \"selection\": {\n",
    "        \"filter\": \"item\",\n",
    "        \"values\": [\"Kilopris\"] # Her ser vi at vi kun har hentet kiloprisen fra tabellen\n",
    "      }\n",
    "    },\n",
    "    {\n",
    "      \"code\": \"Tid\",\n",
    "      \"selection\": {\n",
    "        \"filter\": \"all\",\n",
    "        \"values\": [\"2023*\"] # Her ser man at vi kun har hentet statistikken fra 2023\n",
    "      }\n",
    "    }\n",
    "  ],\n",
    "  \"response\": {\n",
    "    \"format\": \"json-stat2\"\n",
    "  }\n",
    "}\n"
   ]
  },
  {
   "cell_type": "markdown",
   "id": "b109faf5",
   "metadata": {},
   "source": [
    "Deretter poster vi spørringen med requests pakken"
   ]
  },
  {
   "cell_type": "code",
   "execution_count": 31,
   "id": "90ac5976",
   "metadata": {},
   "outputs": [],
   "source": [
    "resultat = requests.post(URL, json = query)"
   ]
  },
  {
   "cell_type": "markdown",
   "id": "67c70079",
   "metadata": {},
   "source": [
    "Deretter legger vi resultatet i objektet dataset"
   ]
  },
  {
   "cell_type": "code",
   "execution_count": null,
   "id": "a464d5d5",
   "metadata": {},
   "outputs": [],
   "source": [
    "dataset = pyjstat.Dataset.read(resultat.text)"
   ]
  },
  {
   "cell_type": "markdown",
   "id": "df710850",
   "metadata": {},
   "source": [
    "Så gjør vi at objektet blir en dataframe"
   ]
  },
  {
   "cell_type": "code",
   "execution_count": null,
   "id": "f9b08407",
   "metadata": {},
   "outputs": [],
   "source": [
    "df = dataset.write('dataframe')"
   ]
  },
  {
   "cell_type": "markdown",
   "id": "bdba2109",
   "metadata": {},
   "source": [
    "Deretter lager vi to separate dataframes, en for frossen laks, og en for fersk laks"
   ]
  },
  {
   "cell_type": "code",
   "execution_count": null,
   "id": "b5f94deb",
   "metadata": {},
   "outputs": [],
   "source": [
    "df_fersk = df[df['varegruppe']=='Fersk oppalen laks']\n",
    "df_frossen = df[df['varegruppe'] == 'Frosen oppalen laks']"
   ]
  },
  {
   "cell_type": "markdown",
   "id": "a8e4d054",
   "metadata": {},
   "source": [
    "Så plotter vi begge dataframes"
   ]
  },
  {
   "cell_type": "code",
   "execution_count": null,
   "id": "5165fef5",
   "metadata": {},
   "outputs": [],
   "source": [
    "df_fersk.plot(x='uke',y='value',color = 'g')\n",
    "df_frossen.plot(x='uke', y='value')"
   ]
  },
  {
   "cell_type": "markdown",
   "id": "79ca5b6f",
   "metadata": {},
   "source": [
    "I PyCharm må man kalle på plotten for å den til å vises"
   ]
  },
  {
   "cell_type": "code",
   "execution_count": null,
   "id": "f3b362bf",
   "metadata": {},
   "outputs": [],
   "source": [
    "plt.show()"
   ]
  }
 ],
 "metadata": {
  "kernelspec": {
   "display_name": "Python 3 (ipykernel)",
   "language": "python",
   "name": "python3"
  },
  "language_info": {
   "codemirror_mode": {
    "name": "ipython",
    "version": 3
   },
   "file_extension": ".py",
   "mimetype": "text/x-python",
   "name": "python",
   "nbconvert_exporter": "python",
   "pygments_lexer": "ipython3",
   "version": "3.11.3"
  }
 },
 "nbformat": 4,
 "nbformat_minor": 5
}
